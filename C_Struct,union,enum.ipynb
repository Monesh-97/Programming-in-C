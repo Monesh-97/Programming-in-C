{
  "nbformat": 4,
  "nbformat_minor": 0,
  "metadata": {
    "colab": {
      "name": "C_Struct,union,enum.ipynb",
      "provenance": [],
      "collapsed_sections": [
        "M9kkP4GDwmVJ",
        "xYKUcvAXzYo7",
        "iKJBZrf-08j_",
        "ROK0r3Ta4Arh",
        "PBbIMx147KAd"
      ]
    },
    "kernelspec": {
      "name": "python3",
      "display_name": "Python 3"
    },
    "language_info": {
      "name": "python"
    }
  },
  "cells": [
    {
      "cell_type": "markdown",
      "source": [
        "# C-Struct\n"
      ],
      "metadata": {
        "id": "M9kkP4GDwmVJ"
      }
    },
    {
      "cell_type": "markdown",
      "source": [
        "## Why structs in C ?\n",
        "Suppose, you want to store information about a person: his/her name, citizenship number, and salary. You can create different variables name, citNo and salary to store this information.\n",
        "\n",
        "What if you need to store information of more than one person? Now, you need to create different variables for each information per person: name1, citNo1, salary1, name2, citNo2, salary2, etc.\n",
        "\n",
        "A better approach would be to have a collection of all related information under a single name Person structure and use it for every person."
      ],
      "metadata": {
        "id": "zooOfF2J0so0"
      }
    },
    {
      "cell_type": "markdown",
      "source": [
        "Before you can create structure variables, you need to define its data type. To define a struct, the struct keyword is used. "
      ],
      "metadata": {
        "id": "yxmGIFap03sG"
      }
    },
    {
      "cell_type": "markdown",
      "source": [
        "Syntax of struct :\n",
        "```\n",
        "struct structureName {\n",
        "  dataType member1;\n",
        "  dataType member2;\n",
        "  ...\n",
        "};\n",
        "```\n",
        "For example,\n",
        "```\n",
        "struct Person {\n",
        "  char name[50];\n",
        "  int citNo;\n",
        "  float salary;\n",
        "};\n",
        "```\n",
        "\n",
        "Here, a derived type struct Person is defined. Now, you can create variables of this type."
      ],
      "metadata": {
        "id": "TUoieAddwt8s"
      }
    },
    {
      "cell_type": "markdown",
      "source": [
        "## Create struct Variables\n",
        "\n",
        "When a struct type is declared, no storage or memory is allocated. To allocate memory of a given structure type and work with it, we need to create variables.\n",
        "\n",
        "lets create :"
      ],
      "metadata": {
        "id": "LJ6BSenMw0Zn"
      }
    },
    {
      "cell_type": "markdown",
      "source": [
        "```\n",
        "struct Person {\n",
        "  // code\n",
        "};\n",
        "\n",
        "int main() {\n",
        "  struct Person person1, person2, p[20];\n",
        "  return 0;\n",
        "}\n",
        "```\n",
        "Another way of creating a struct variable is:\n",
        "```\n",
        "struct Person {\n",
        "   // code\n",
        "} person1, person2, p[20];\n",
        "```\n",
        "In both the cases,\n",
        "\n",
        "* person1 and person2 are struct Person variables\n",
        "* p [ ] is a struct Person array of size 20."
      ],
      "metadata": {
        "id": "rOSllS9jw_P_"
      }
    },
    {
      "cell_type": "markdown",
      "source": [
        "##Access Members of a Structure\n",
        "\n",
        "There are two types of operators used for accessing members of a structure.\n",
        "\n",
        "  1.  Member operator\n",
        "  2.  -> Structure pointer operator \n",
        "\n",
        "Suppose, you want to access the salary of person2. Here's how you can do it.\n",
        "\n"
      ],
      "metadata": {
        "id": "jI3m3aFsxTg5"
      }
    },
    {
      "cell_type": "code",
      "source": [
        "%%writefile f1.c\n",
        "#include <stdio.h>\n",
        "#include <string.h>\n",
        "\n",
        "// create struct with person1 variable\n",
        "struct Person {\n",
        "  char name[50];\n",
        "  int citNo;\n",
        "  float salary;\n",
        "} person1;\n",
        "\n",
        "int main() {\n",
        "\n",
        "  // assign value to name of person1\n",
        "  strcpy(person1.name, \"George Orwell\");\n",
        "\n",
        "  // assign values to other person1 variables\n",
        "  person1.citNo = 1984;\n",
        "  person1.salary = 2500;\n",
        "\n",
        "  // print struct variables\n",
        "  printf(\"Name: %s\\n\", person1.name);\n",
        "  printf(\"Citizenship No.: %d\\n\", person1.citNo);\n",
        "  printf(\"Salary: %.2f\", person1.salary);\n",
        "  \n",
        "\n",
        "  return 0;\n",
        "}"
      ],
      "metadata": {
        "colab": {
          "base_uri": "https://localhost:8080/"
        },
        "id": "e6C64v1Gw1kk",
        "outputId": "d7476f4f-29d2-430c-b169-6dd9a3ddeb6c"
      },
      "execution_count": 9,
      "outputs": [
        {
          "output_type": "stream",
          "name": "stdout",
          "text": [
            "Overwriting f1.c\n"
          ]
        }
      ]
    },
    {
      "cell_type": "code",
      "source": [
        "%%shell \n",
        "gcc f1.c -o test\n",
        "./test"
      ],
      "metadata": {
        "colab": {
          "base_uri": "https://localhost:8080/"
        },
        "id": "5f3UhsSLxzpU",
        "outputId": "5170a6cd-6f24-4e47-b27d-38ee7be0ca5f"
      },
      "execution_count": 10,
      "outputs": [
        {
          "output_type": "stream",
          "name": "stdout",
          "text": [
            "Name: George Orwell\n",
            "Citizenship No.: 1984\n",
            "Salary: 2500.00"
          ]
        },
        {
          "output_type": "execute_result",
          "data": {
            "text/plain": [
              ""
            ]
          },
          "metadata": {},
          "execution_count": 10
        }
      ]
    },
    {
      "cell_type": "markdown",
      "source": [
        "In this program, we have created a struct named Person. We have also created a variable of Person named person1.\n",
        "\n",
        "In main(), we have assigned values to the variables defined in Person for the person1 object.\n",
        "```\n",
        "strcpy(person1.name, \"George Orwell\");\n",
        "person1.citNo = 1984;\n",
        "person1. salary = 2500;\n",
        "```\n",
        "Notice that we have used strcpy() function to assign the value to person1.name.\n",
        "\n",
        "This is because name is a char array (C-string) and we cannot use the assignment operator = with it after we have declared the string."
      ],
      "metadata": {
        "id": "AKHYVBdey2nI"
      }
    },
    {
      "cell_type": "markdown",
      "source": [
        "#typedef"
      ],
      "metadata": {
        "id": "xYKUcvAXzYo7"
      }
    },
    {
      "cell_type": "markdown",
      "source": [
        "Keyword : typedef\n",
        "\n",
        "We use the typedef keyword to create an alias name for data types. It is commonly used with structures to simplify the syntax of declaring variables.\n",
        "\n",
        "For example, let us look at the following code:\n",
        "```\n",
        "struct Distance{\n",
        "  int feet;\n",
        "  float inch;\n",
        "};\n",
        "\n",
        "int main() {\n",
        "  struct Distance d1, d2;\n",
        "}\n",
        "```\n",
        "We can use typedef to write an equivalent code with a simplified syntax:\n",
        "```\n",
        "typedef struct Distance {\n",
        "  int feet;\n",
        "  float inch;\n",
        "} distances;\n",
        "\n",
        "int main() {\n",
        "  distances d1, d2;\n",
        "}\n",
        "```"
      ],
      "metadata": {
        "id": "5lJN7q0gzLlO"
      }
    },
    {
      "cell_type": "markdown",
      "source": [
        "Example :"
      ],
      "metadata": {
        "id": "5XnvAZ77zi7z"
      }
    },
    {
      "cell_type": "code",
      "source": [
        "%%writefile f2.c\n",
        "#include <stdio.h>\n",
        "#include <string.h>\n",
        "\n",
        "// struct with typedef person\n",
        "typedef struct Person {\n",
        "  char name[50];\n",
        "  int citNo;\n",
        "  float salary;\n",
        "  int phone;\n",
        "} person;\n",
        "\n",
        "int main() {\n",
        "\n",
        "  // create  Person variable\n",
        "  person p1;\n",
        "  person p2,p3;\n",
        "  // assign value to name of p1\n",
        "  strcpy(p1.name, \"George Orwell\");\n",
        "  strcpy(p2.name, \"science\");\n",
        "  strcpy(p3.name, \"computers\");\n",
        "\n",
        "  // assign values to other p1 variables\n",
        "  p1.citNo = 1984;\n",
        "  p1. salary = 2500;\n",
        "  p1.phone = 123456789; \n",
        "  p2.phone = 987654321;\n",
        "  // print struct variables\n",
        "  printf(\"Name: %s\\n\", p1.name);\n",
        "  printf(\"Citizenship No.: %d\\n\", p1.citNo);\n",
        "  printf(\"Salary: %.2f\\n\", p1.salary);\n",
        "  \n",
        "  printf(\"P2_Name:%s\\n\",p2.name);\n",
        "  printf(\"P3_Name:%s\\n\",p3.name);\n",
        "  printf(\"p1 :%d\\n\",p1.phone);\n",
        "  printf(\"p2 :%d\\n\",p2.phone);\n",
        "\n",
        "  return 0;\n",
        "}"
      ],
      "metadata": {
        "colab": {
          "base_uri": "https://localhost:8080/"
        },
        "id": "N7kg4qD4x6CJ",
        "outputId": "2a437364-fefc-4bf8-a4fb-51e82842fd72"
      },
      "execution_count": 13,
      "outputs": [
        {
          "output_type": "stream",
          "name": "stdout",
          "text": [
            "Overwriting f2.c\n"
          ]
        }
      ]
    },
    {
      "cell_type": "code",
      "source": [
        "%%shell\n",
        "gcc f2.c -o test\n",
        "./test"
      ],
      "metadata": {
        "colab": {
          "base_uri": "https://localhost:8080/"
        },
        "id": "x_CbfZYrzqna",
        "outputId": "cdd835fa-e5e6-4c7c-e9f9-db55da9a7b05"
      },
      "execution_count": 14,
      "outputs": [
        {
          "output_type": "stream",
          "name": "stdout",
          "text": [
            "Name: George Orwell\n",
            "Citizenship No.: 1984\n",
            "Salary: 2500.00\n",
            "P2_Name:science\n",
            "P3_Name:computers\n",
            "p1 :123456789\n",
            "p2 :987654321\n"
          ]
        },
        {
          "output_type": "execute_result",
          "data": {
            "text/plain": [
              ""
            ]
          },
          "metadata": {},
          "execution_count": 14
        }
      ]
    },
    {
      "cell_type": "markdown",
      "source": [
        "Here, we have used typedef with the Person structure to create an alias person.\n",
        "```\n",
        "// struct with typedef person\n",
        "typedef struct Person {\n",
        "  // code\n",
        "} person;\n",
        "```\n",
        "\n",
        "Now, we can simply declare a Person variable using the person alias:\n",
        "\n",
        "```\n",
        "// equivalent to struct Person p1\n",
        "person p1;\n",
        "```"
      ],
      "metadata": {
        "id": "ppcmPSkC0eUO"
      }
    },
    {
      "cell_type": "code",
      "source": [
        ""
      ],
      "metadata": {
        "id": "xioZQq-gzu2m"
      },
      "execution_count": null,
      "outputs": []
    },
    {
      "cell_type": "markdown",
      "source": [
        "# Nested struct"
      ],
      "metadata": {
        "id": "iKJBZrf-08j_"
      }
    },
    {
      "cell_type": "markdown",
      "source": [
        "You can create structures within a structure in C programming. For example,\n",
        "```\n",
        "struct complex {\n",
        "  int imag;\n",
        "  float real;\n",
        "};\n",
        "\n",
        "struct number {\n",
        "  struct complex comp;\n",
        "  int integers;\n",
        "} num1, num2;\n",
        "```\n",
        "Suppose, you want to set imag of num2 variable to 11. Here's how you can do it:\n",
        "```\n",
        "num2.comp.imag = 11; ```"
      ],
      "metadata": {
        "id": "0nQUwyq41LUD"
      }
    },
    {
      "cell_type": "code",
      "source": [
        "%%writefile f3.c\n",
        "#include <stdio.h>\n",
        "\n",
        "struct complex {\n",
        "  int imag;\n",
        "  float real;\n",
        "};\n",
        "\n",
        "struct number {\n",
        "  struct complex comp;\n",
        "  int integer;\n",
        "} num1;\n",
        "\n",
        "\n",
        "int main() {\n",
        "\n",
        "  // initialize complex variables\n",
        "  num1.comp.imag = 11;\n",
        "  num1.comp.real = 5.25;\n",
        "\n",
        "  // initialize number variable\n",
        "  num1.integer = 6;\n",
        "\t\n",
        "  // print struct variables\n",
        "  printf(\"Imaginary Part: %d\\n\", num1.comp.imag);\n",
        "  printf(\"Real Part: %.2f\\n\", num1.comp.real);\n",
        "  printf(\"Integer: %d\", num1.integer);\n",
        "\n",
        "  return 0;\n",
        "}"
      ],
      "metadata": {
        "colab": {
          "base_uri": "https://localhost:8080/"
        },
        "id": "UGa81N6U1GDt",
        "outputId": "30253ade-7085-496d-8346-7ddf350db36e"
      },
      "execution_count": 15,
      "outputs": [
        {
          "output_type": "stream",
          "name": "stdout",
          "text": [
            "Writing f3.c\n"
          ]
        }
      ]
    },
    {
      "cell_type": "code",
      "source": [
        "%%shell\n",
        "gcc f3.c -o test\n",
        "./test"
      ],
      "metadata": {
        "colab": {
          "base_uri": "https://localhost:8080/"
        },
        "id": "V5txHdRpaEqP",
        "outputId": "cad41543-4a32-4ad5-aeb7-26f50aae14e0"
      },
      "execution_count": 17,
      "outputs": [
        {
          "output_type": "stream",
          "name": "stdout",
          "text": [
            "Imaginary Part: 11\n",
            "Real Part: 5.25\n",
            "Integer: 6"
          ]
        },
        {
          "output_type": "execute_result",
          "data": {
            "text/plain": [
              ""
            ]
          },
          "metadata": {},
          "execution_count": 17
        }
      ]
    },
    {
      "cell_type": "markdown",
      "source": [
        "## Passing structs to functions"
      ],
      "metadata": {
        "id": "TaZcHN6g1p4E"
      }
    },
    {
      "cell_type": "code",
      "source": [
        "%%writefile f4.c\n",
        "#include <stdio.h>\n",
        "struct student {\n",
        "   char name[50];\n",
        "   int age;\n",
        "};\n",
        "\n",
        "// function prototype\n",
        "void display(struct student s);\n",
        "\n",
        "int main() {\n",
        "   struct student s1;\n",
        "\n",
        "   printf(\"Enter name: \");\n",
        "\n",
        "   // read string input from the user until \\n is entered\n",
        "   // \\n is discarded\n",
        "   scanf(\"%[^\\n]%*c\", s1.name);\n",
        "\n",
        "   printf(\"Enter age: \");\n",
        "   scanf(\"%d\", &s1.age);\n",
        "\n",
        "   display(s1); // passing struct as an argument\n",
        "\n",
        "   return 0;\n",
        "}\n",
        "\n",
        "void display(struct student s) {\n",
        "   printf(\"\\nDisplaying information\\n\");\n",
        "   printf(\"Name: %s\", s.name);\n",
        "   printf(\"\\nAge: %d\", s.age);\n",
        "}"
      ],
      "metadata": {
        "colab": {
          "base_uri": "https://localhost:8080/"
        },
        "id": "jdcRLD3y1vFx",
        "outputId": "198aeb5d-73c1-48e0-9f6e-c29b87b23a01"
      },
      "execution_count": 18,
      "outputs": [
        {
          "output_type": "stream",
          "name": "stdout",
          "text": [
            "Writing f4.c\n"
          ]
        }
      ]
    },
    {
      "cell_type": "code",
      "source": [
        "%%shell \n",
        "gcc f4.c -o test\n",
        "./test"
      ],
      "metadata": {
        "colab": {
          "base_uri": "https://localhost:8080/"
        },
        "id": "cdCpLU5ha7ZQ",
        "outputId": "ee0bcbcb-f339-407d-ab38-10e0381341aa"
      },
      "execution_count": 19,
      "outputs": [
        {
          "output_type": "stream",
          "name": "stdout",
          "text": [
            "Enter name: computer\n",
            "Enter age: 1000\n",
            "\n",
            "Displaying information\n",
            "Name: computer\n",
            "Age: 1000"
          ]
        },
        {
          "output_type": "execute_result",
          "data": {
            "text/plain": [
              ""
            ]
          },
          "metadata": {},
          "execution_count": 19
        }
      ]
    },
    {
      "cell_type": "markdown",
      "source": [
        "Here, a struct variable s1 of type struct student is created. The variable is passed to the display() function using display(s1); statement."
      ],
      "metadata": {
        "id": "_fsPuELP12uw"
      }
    },
    {
      "cell_type": "markdown",
      "source": [
        "## Return struct from a function"
      ],
      "metadata": {
        "id": "q_16s2Vq15Sl"
      }
    },
    {
      "cell_type": "code",
      "source": [
        "#include <stdio.h>\n",
        "struct student\n",
        "{\n",
        "    char name[50];\n",
        "    int age;\n",
        "};\n",
        "\n",
        "// function prototype\n",
        "struct student getInformation();\n",
        "\n",
        "int main()\n",
        "{\n",
        "    struct student s;\n",
        "\n",
        "    s = getInformation();\n",
        "\n",
        "    printf(\"\\nDisplaying information\\n\");\n",
        "    printf(\"Name: %s\", s.name);\n",
        "    printf(\"\\nRoll: %d\", s.age);\n",
        "    \n",
        "    return 0;\n",
        "}\n",
        "struct student getInformation() \n",
        "{\n",
        "  struct student s1;\n",
        "\n",
        "  printf(\"Enter name: \");\n",
        "  scanf (\"%[^\\n]%*c\", s1.name);\n",
        "\n",
        "  printf(\"Enter age: \");\n",
        "  scanf(\"%d\", &s1.age);\n",
        "  \n",
        "  return s1;\n",
        "}\t\n"
      ],
      "metadata": {
        "id": "KF5m9sa712Uq"
      },
      "execution_count": null,
      "outputs": []
    },
    {
      "cell_type": "markdown",
      "source": [
        "Here, the getInformation() function is called using s = getInformation(); statement. The function returns a structure of type struct student. The returned structure is displayed from the main() function.\n",
        "\n",
        "Notice that, the return type of getInformation() is also struct student."
      ],
      "metadata": {
        "id": "Uh9faXn8193L"
      }
    },
    {
      "cell_type": "markdown",
      "source": [
        "## Passing struct by reference\n",
        "\n",
        "You can also pass structs by reference (in a similar way like you pass variables of built-in type by reference). We suggest you to read pass by reference tutorial before you proceed.\n",
        "\n",
        "During pass by reference, the memory addresses of struct variables are passed to the function."
      ],
      "metadata": {
        "id": "xtwT4ZNc2A5s"
      }
    },
    {
      "cell_type": "code",
      "source": [
        "#include <stdio.h>\n",
        "typedef struct Complex\n",
        "{\n",
        "    float real;\n",
        "    float imag;\n",
        "} complex;\n",
        "\n",
        "void addNumbers(complex c1, complex c2, complex *result); \n",
        "\n",
        "int main()\n",
        "{\n",
        "    complex c1, c2, result;\n",
        "\n",
        "    printf(\"For first number,\\n\");\n",
        "    printf(\"Enter real part: \");\n",
        "    scanf(\"%f\", &c1.real);\n",
        "    printf(\"Enter imaginary part: \");\n",
        "    scanf(\"%f\", &c1.imag);\n",
        "\n",
        "    printf(\"For second number, \\n\");\n",
        "    printf(\"Enter real part: \");\n",
        "    scanf(\"%f\", &c2.real);\n",
        "    printf(\"Enter imaginary part: \");\n",
        "    scanf(\"%f\", &c2.imag);\n",
        "\n",
        "    addNumbers(c1, c2, &result); \n",
        "    printf(\"\\nresult.real = %.1f\\n\", result.real);\n",
        "    printf(\"result.imag = %.1f\", result.imag);\n",
        "    \n",
        "    return 0;\n",
        "}\n",
        "void addNumbers(complex c1, complex c2, complex *result) \n",
        "{\n",
        "     result->real = c1.real + c2.real;\n",
        "     result->imag = c1.imag + c2.imag; \n",
        "}\n"
      ],
      "metadata": {
        "id": "fheVl5_C1-s3"
      },
      "execution_count": null,
      "outputs": []
    },
    {
      "cell_type": "markdown",
      "source": [
        "In the above program, three structure variables c1, c2 and the address of result is passed to the addNumbers() function. Here, result is passed by reference.\n",
        "\n",
        "When the result variable inside the addNumbers() is altered, the result variable inside the main() function is also altered accordingly."
      ],
      "metadata": {
        "id": "NRHFT9772Grw"
      }
    },
    {
      "cell_type": "code",
      "source": [
        ""
      ],
      "metadata": {
        "id": "DGdht6R32ILC"
      },
      "execution_count": null,
      "outputs": []
    },
    {
      "cell_type": "markdown",
      "source": [
        "## S_Example : "
      ],
      "metadata": {
        "id": "kW3NHh-q2U0Y"
      }
    },
    {
      "cell_type": "markdown",
      "source": [
        "E1: Add Two Complex Numbers"
      ],
      "metadata": {
        "id": "ZJxKbA0p25U7"
      }
    },
    {
      "cell_type": "code",
      "source": [
        "#include <stdio.h>\n",
        "typedef struct complex {\n",
        "    float real;\n",
        "    float imag;\n",
        "} complex;\n",
        "\n",
        "complex add(complex n1, complex n2);\n",
        "\n",
        "int main() {\n",
        "    complex n1, n2, result;\n",
        "\n",
        "    printf(\"For 1st complex number \\n\");\n",
        "    printf(\"Enter the real and imaginary parts: \");\n",
        "    scanf(\"%f %f\", &n1.real, &n1.imag);\n",
        "    printf(\"\\nFor 2nd complex number \\n\");\n",
        "    printf(\"Enter the real and imaginary parts: \");\n",
        "    scanf(\"%f %f\", &n2.real, &n2.imag);\n",
        "\n",
        "    result = add(n1, n2);\n",
        "\n",
        "    printf(\"Sum = %.1f + %.1fi\", result.real, result.imag);\n",
        "    return 0;\n",
        "}\n",
        "\n",
        "complex add(complex n1, complex n2) {\n",
        "    complex temp;\n",
        "    temp.real = n1.real + n2.real;\n",
        "    temp.imag = n1.imag + n2.imag;\n",
        "    return (temp);\n",
        "}\n"
      ],
      "metadata": {
        "id": "fkebsDvq2yX0"
      },
      "execution_count": null,
      "outputs": []
    },
    {
      "cell_type": "markdown",
      "source": [
        "E2 : C Program to Store Information of a Student Using Structure"
      ],
      "metadata": {
        "id": "URhfXSFX3B8L"
      }
    },
    {
      "cell_type": "code",
      "source": [
        "#include <stdio.h>\n",
        "struct student {\n",
        "    char name[50];\n",
        "    int roll;\n",
        "    float marks;\n",
        "} s;\n",
        "\n",
        "int main() {\n",
        "    printf(\"Enter information:\\n\");\n",
        "    printf(\"Enter name: \");\n",
        "    fgets(s.name, sizeof(s.name), stdin);\n",
        "\n",
        "    printf(\"Enter roll number: \");\n",
        "    scanf(\"%d\", &s.roll);\n",
        "    printf(\"Enter marks: \");\n",
        "    scanf(\"%f\", &s.marks);\n",
        "\n",
        "    printf(\"Displaying Information:\\n\");\n",
        "    printf(\"Name: \");\n",
        "    printf(\"%s\", s.name);\n",
        "    printf(\"Roll number: %d\\n\", s.roll);\n",
        "    printf(\"Marks: %.1f\\n\", s.marks);\n",
        "\n",
        "    return 0;\n",
        "}\n"
      ],
      "metadata": {
        "id": "9mlE_PQ93DzU"
      },
      "execution_count": null,
      "outputs": []
    },
    {
      "cell_type": "markdown",
      "source": [
        "# C-Unions"
      ],
      "metadata": {
        "id": "ROK0r3Ta4Arh"
      }
    },
    {
      "cell_type": "markdown",
      "source": [
        "\n",
        "* how to create unions, access its members and learn the differences between unions and structures.\n",
        "\n",
        "* A union is a user-defined type similar to structs in C except for one key difference.\n",
        "\n",
        "* Structures allocate enough space to store all their members, whereas unions can only hold one member value at a time."
      ],
      "metadata": {
        "id": "_7bj0Md939PC"
      }
    },
    {
      "cell_type": "markdown",
      "source": [
        "How to define a union?\n",
        "We use the union keyword to define unions. Here's an example:\n",
        "```\n",
        "union car\n",
        "{\n",
        "  char name[50];\n",
        "  int price;\n",
        "};\n",
        "```\n",
        "The above code defines a derived type union car.\n",
        "\n",
        "Create union variables\n",
        "\n",
        "* When a union is defined, it creates a user-defined type. However, no memory is allocated. To allocate memory for a given union type and work with it, we need to create variables.\n",
        "\n",
        "Here's how we create union variables.\n",
        "```\n",
        "union car\n",
        "{\n",
        "  char name[50];\n",
        "  int price;\n",
        "};\n",
        "\n",
        "int main()\n",
        "{\n",
        "  union car car1, car2, *car3;\n",
        "  return 0;\n",
        "}\n",
        "```\n",
        "Another way of creating union variables is:\n",
        "```\n",
        "union car\n",
        "{\n",
        "  char name[50];\n",
        "  int price;\n",
        "} car1, car2, *car3;\n",
        "```\n",
        "In both cases, union variables car1, car2, and a union pointer car3 of union car type are created.\n",
        "\n"
      ],
      "metadata": {
        "id": "T_6fjjbp4IFG"
      }
    },
    {
      "cell_type": "markdown",
      "source": [
        "## Access members of a union\n",
        "* We use the . operator to access members of a union. And to access   pointer variables, we use the -> operator.\n",
        "\n",
        "In the above example,\n",
        "\n",
        "* To access price for car1, car1.price is used.\n",
        "* To access price using car3, either (*car3).price or car3->price can be used."
      ],
      "metadata": {
        "id": "vGTOdrQk4eve"
      }
    },
    {
      "cell_type": "markdown",
      "source": [
        "## Example: Accessing Union Members"
      ],
      "metadata": {
        "id": "ry_JLx466cU4"
      }
    },
    {
      "cell_type": "code",
      "source": [
        "%%writefile f5.c\n",
        "#include <stdio.h>\n",
        "#include<string.h>\n",
        "union Job {\n",
        "   float salary;\n",
        "   char name[10];\n",
        "   int phone;\n",
        "   int workerNo;\n",
        "   \n",
        "} j;\n",
        "\n",
        "int main() {\n",
        "   j.salary = 12.3;\n",
        "   strcpy(j.name,\"com\"); \n",
        "   // when j.workerNo is assigned a value,\n",
        "   // j.salary will no longer hold 12.3\n",
        "   j.phone = 1000;\n",
        "   j.workerNo = 100;\n",
        "   printf(\"%s\",j.name);\n",
        "   printf(\"Salary = %.1f\\n\", j.salary);\n",
        "   printf(\"%d\",j.phone);\n",
        "   printf(\"Number of workers = %d\\n\", j.workerNo);\n",
        "   \n",
        "   return 0;\n",
        "}"
      ],
      "metadata": {
        "colab": {
          "base_uri": "https://localhost:8080/"
        },
        "id": "Ue_URec75_ud",
        "outputId": "697ae381-d096-4199-d9fb-1cee88d34f80"
      },
      "execution_count": 40,
      "outputs": [
        {
          "output_type": "stream",
          "name": "stdout",
          "text": [
            "Overwriting f5.c\n"
          ]
        }
      ]
    },
    {
      "cell_type": "code",
      "source": [
        "%%shell\n",
        "gcc f5.c -o test\n",
        "./test"
      ],
      "metadata": {
        "colab": {
          "base_uri": "https://localhost:8080/"
        },
        "id": "evBS5dZHczM7",
        "outputId": "41cc9c55-44a0-48ab-e99c-e18c43878cfa"
      },
      "execution_count": 41,
      "outputs": [
        {
          "output_type": "stream",
          "name": "stdout",
          "text": [
            "dSalary = 0.0\n",
            "100Number of workers = 100\n"
          ]
        },
        {
          "output_type": "execute_result",
          "data": {
            "text/plain": [
              ""
            ]
          },
          "metadata": {},
          "execution_count": 41
        }
      ]
    },
    {
      "cell_type": "markdown",
      "source": [
        "## Difference between unions and structures"
      ],
      "metadata": {
        "id": "DGB-uWc76zAk"
      }
    },
    {
      "cell_type": "code",
      "source": [
        "%%writefile f6.c\n",
        "#include <stdio.h>\n",
        "union unionJob\n",
        "{\n",
        "   //defining a union\n",
        "   char name[32];\n",
        "   float salary;\n",
        "   int workerNo;\n",
        "} uJob;\n",
        "\n",
        "struct structJob\n",
        "{\n",
        "   char name[32];\n",
        "   float salary;\n",
        "   int workerNo;\n",
        "} sJob;\n",
        "\n",
        "int main()\n",
        "{\n",
        "   printf(\"size of union = %d bytes\", sizeof(uJob));\n",
        "   printf(\"\\nsize of structure = %d bytes\", sizeof(sJob));\n",
        "   return 0;\n",
        "}"
      ],
      "metadata": {
        "id": "nAYZDu_D50IL",
        "colab": {
          "base_uri": "https://localhost:8080/"
        },
        "outputId": "16951a11-a852-4cec-af1c-3ff8a1b968ae"
      },
      "execution_count": 42,
      "outputs": [
        {
          "output_type": "stream",
          "name": "stdout",
          "text": [
            "Writing f6.c\n"
          ]
        }
      ]
    },
    {
      "cell_type": "code",
      "source": [
        "%%shell\n",
        "gcc f6.c -o tes\n",
        "./tes"
      ],
      "metadata": {
        "colab": {
          "base_uri": "https://localhost:8080/"
        },
        "id": "b-O_BLDYelyb",
        "outputId": "f44f9b23-4235-4b6c-9547-574142b75cad"
      },
      "execution_count": 43,
      "outputs": [
        {
          "output_type": "stream",
          "name": "stdout",
          "text": [
            "\u001b[01m\u001b[Kf6.c:\u001b[m\u001b[K In function ‘\u001b[01m\u001b[Kmain\u001b[m\u001b[K’:\n",
            "\u001b[01m\u001b[Kf6.c:19:29:\u001b[m\u001b[K \u001b[01;35m\u001b[Kwarning: \u001b[m\u001b[Kformat ‘\u001b[01m\u001b[K%d\u001b[m\u001b[K’ expects argument of type ‘\u001b[01m\u001b[Kint\u001b[m\u001b[K’, but argument 2 has type ‘\u001b[01m\u001b[Klong unsigned int\u001b[m\u001b[K’ [\u001b[01;35m\u001b[K-Wformat=\u001b[m\u001b[K]\n",
            "    printf(\"size of union = \u001b[01;35m\u001b[K%d\u001b[m\u001b[K bytes\", sizeof(uJob));\n",
            "                            \u001b[01;35m\u001b[K~^\u001b[m\u001b[K\n",
            "                            \u001b[32m\u001b[K%ld\u001b[m\u001b[K\n",
            "\u001b[01m\u001b[Kf6.c:20:35:\u001b[m\u001b[K \u001b[01;35m\u001b[Kwarning: \u001b[m\u001b[Kformat ‘\u001b[01m\u001b[K%d\u001b[m\u001b[K’ expects argument of type ‘\u001b[01m\u001b[Kint\u001b[m\u001b[K’, but argument 2 has type ‘\u001b[01m\u001b[Klong unsigned int\u001b[m\u001b[K’ [\u001b[01;35m\u001b[K-Wformat=\u001b[m\u001b[K]\n",
            "    printf(\"\\nsize of structure = \u001b[01;35m\u001b[K%d\u001b[m\u001b[K bytes\", sizeof(sJob));\n",
            "                                  \u001b[01;35m\u001b[K~^\u001b[m\u001b[K\n",
            "                                  \u001b[32m\u001b[K%ld\u001b[m\u001b[K\n",
            "size of union = 32 bytes\n",
            "size of structure = 40 bytes"
          ]
        },
        {
          "output_type": "execute_result",
          "data": {
            "text/plain": [
              ""
            ]
          },
          "metadata": {},
          "execution_count": 43
        }
      ]
    },
    {
      "cell_type": "markdown",
      "source": [
        "## Why this difference in the size of union and structure variables?\n",
        "\n",
        "Here, \n",
        "* the size of sJob is 40 bytes because\n",
        "* the size of name[32] is 32 bytes\n",
        "* the size of salary is 4 bytes\n",
        "* the size of workerNo is 4 bytes\n",
        "* However, the size of uJob is 32 bytes. \n",
        "\n",
        "It's because the size of a union variable will always be the size of its largest element. \n",
        "In the above example, \n",
        "``` \n",
        "the size of its largest element, (name[32]), is 32 bytes.```\n",
        "\n",
        "With a union, all members share the same memory."
      ],
      "metadata": {
        "id": "JS13bdS_5-Ai"
      }
    },
    {
      "cell_type": "markdown",
      "source": [
        "# C-Enums"
      ],
      "metadata": {
        "id": "PBbIMx147KAd"
      }
    },
    {
      "cell_type": "markdown",
      "source": [
        "In C programming, an enumeration type (also called enum) is a data type that consists of integral constants. To define enums, the enum keyword is used.\n",
        "```\n",
        "enum flag {const1, const2, ..., constN};\n",
        "```\n",
        "\n",
        "By default, const1 is 0, const2 is 1 and so on. You can change default values of enum elements during declaration (if necessary).\n",
        "```\n",
        "// Changing default values of enum constants\n",
        "enum suit {\n",
        "    club = 0,\n",
        "    diamonds = 10,\n",
        "    hearts = 20,\n",
        "    spades = 3,\n",
        "};\n",
        "```\n"
      ],
      "metadata": {
        "id": "CYw9gc957MV9"
      }
    },
    {
      "cell_type": "markdown",
      "source": [
        "## Enumerated Type Declaration\n",
        "\n",
        "When you define an enum type, the blueprint for the variable is created. Here's how you can create variables of enum types.\n",
        "```\n",
        "enum boolean {false, true};\n",
        "enum boolean check; // declaring an enum variable\n",
        "```\n",
        "Here, a variable check of the type enum boolean is created.\n",
        "\n",
        "You can also declare enum variables like this.\n",
        "\n",
        "```enum boolean {false, true} check;```\n",
        "\n",
        "Here, the value of false is equal to 0 and the value of true is equal to 1."
      ],
      "metadata": {
        "id": "n9TmqjeO7WFT"
      }
    },
    {
      "cell_type": "markdown",
      "source": [
        "## Why enums are used?\n",
        "An enum variable can take only one value. Here is an example to demonstrate it,"
      ],
      "metadata": {
        "id": "8ySTbQ55770n"
      }
    },
    {
      "cell_type": "code",
      "source": [
        "#include <stdio.h>\n",
        "\n",
        "enum suit {\n",
        "    club = 0,\n",
        "    diamonds = 10,\n",
        "    hearts = 20,\n",
        "    spades = 3\n",
        "} card;\n",
        "\n",
        "int main() \n",
        "{\n",
        "    card = club;\n",
        "\tprintf(\"Size of enum variable = %d bytes\", sizeof(card));\t\n",
        "\treturn 0;\n",
        "}"
      ],
      "metadata": {
        "id": "SFcQCMaK7-XX"
      },
      "execution_count": null,
      "outputs": []
    },
    {
      "cell_type": "markdown",
      "source": [
        "## Example: Enumeration Type"
      ],
      "metadata": {
        "id": "6kzJXWEQ7t34"
      }
    },
    {
      "cell_type": "code",
      "source": [
        "#include <stdio.h>\n",
        "\n",
        "enum week {Sunday, Monday, Tuesday, Wednesday, Thursday, Friday, Saturday};\n",
        "\n",
        "int main()\n",
        "{\n",
        "    // creating today variable of enum week type\n",
        "    enum week today;\n",
        "    today = Wednesday;\n",
        "    printf(\"Day %d\",today+1);\n",
        "    return 0;\n",
        "}"
      ],
      "metadata": {
        "id": "kXpoz7ET7lEM"
      },
      "execution_count": null,
      "outputs": []
    },
    {
      "cell_type": "markdown",
      "source": [
        "## How to use enums for flags?\n",
        "Let us take an example,\n",
        "```\n",
        "enum designFlags {\n",
        "\tITALICS = 1,\n",
        "\tBOLD = 2,\n",
        "\tUNDERLINE = 4\n",
        "} button;\n",
        "```\n",
        "Suppose you are designing a button for Windows application. \n",
        " * You can set flags ITALICS, BOLD and UNDERLINE to work with text.\n",
        "\n",
        "There is a reason why all the integral constants are a power of 2 in the above pseudocode.\n",
        "```\n",
        "// In binary\n",
        "\n",
        "ITALICS = 00000001\n",
        "BOLD = 00000010\n",
        "UNDERLINE = 00000100 \n",
        "```\n",
        "Since the integral constants are a power of 2, you can combine two or more flags at once without overlapping using bitwise OR | operator.\n",
        "This allows you to choose two or more flags at once. \n",
        "\n",
        "For example,"
      ],
      "metadata": {
        "id": "_9TEHpnf8FUa"
      }
    },
    {
      "cell_type": "code",
      "source": [
        "#include <stdio.h>\n",
        "\n",
        "enum designFlags {\n",
        "\tBOLD = 1,\n",
        "\tITALICS = 2,\n",
        "\tUNDERLINE = 4\n",
        "};\n",
        "\n",
        "int main() {\n",
        "\tint myDesign = BOLD | UNDERLINE; \n",
        "\n",
        "        //    00000001\n",
        "        //  | 00000100\n",
        "        //  ___________\n",
        "        //    00000101\n",
        "\n",
        "\tprintf(\"%d\", myDesign);\n",
        "\n",
        "\treturn 0;\n",
        "}"
      ],
      "metadata": {
        "id": "qPWD06Pw8YyF"
      },
      "execution_count": null,
      "outputs": []
    },
    {
      "cell_type": "markdown",
      "source": [
        "When the output is 5, you always know that bold and underline is used.\n",
        "\n",
        "Also, you can add flags according to your requirements.\n",
        "```\n",
        "if (myDesign & ITALICS) {\n",
        "    // code for italics\n",
        "}\n",
        "```\n",
        "Here, we have added italics to our design. Note, only code for italics is written inside the ``` if ``` statement.\n",
        "\n",
        "You can accomplish almost anything in C programming without using enumerations. However, they can be pretty handy in certain situations."
      ],
      "metadata": {
        "id": "2eSZ8b6F8iYN"
      }
    }
  ]
}